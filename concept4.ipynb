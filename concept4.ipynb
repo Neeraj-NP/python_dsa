{
 "cells": [
  {
   "cell_type": "code",
   "execution_count": 3,
   "metadata": {},
   "outputs": [
    {
     "data": {
      "text/plain": [
       "[3,\n",
       " 4,\n",
       " 5,\n",
       " 6,\n",
       " 7,\n",
       " 8,\n",
       " 9,\n",
       " 10,\n",
       " 11,\n",
       " 5,\n",
       " 6,\n",
       " 7,\n",
       " 8,\n",
       " 9,\n",
       " 10,\n",
       " 11,\n",
       " 12,\n",
       " 7,\n",
       " 8,\n",
       " 9,\n",
       " 10,\n",
       " 11,\n",
       " 12,\n",
       " 13,\n",
       " 9,\n",
       " 10,\n",
       " 11,\n",
       " 12,\n",
       " 13,\n",
       " 14,\n",
       " 11,\n",
       " 12,\n",
       " 13,\n",
       " 14,\n",
       " 15,\n",
       " 13,\n",
       " 14,\n",
       " 15,\n",
       " 16,\n",
       " 15,\n",
       " 16,\n",
       " 17,\n",
       " 17,\n",
       " 18,\n",
       " 19]"
      ]
     },
     "execution_count": 3,
     "metadata": {},
     "output_type": "execute_result"
    }
   ],
   "source": [
    "#1 Given a list of distinct numbers, return another list which contains the sum of all pairs of numbers\n",
    "#  in the given list (the same pair should not be taken twice).\n",
    "def sum_of_pairs(list):\n",
    "    sop = []\n",
    "    l = len(list)\n",
    "    for i in range(l):\n",
    "        for j in range(i+1,l):\n",
    "            s = list[i]+list[j]\n",
    "            sop.append(s)\n",
    "    return sop\n",
    "#main\n",
    "list = [1,2,3,4,5,6,7,8,9,10]\n",
    "sum_of_pairs(list)\n"
   ]
  },
  {
   "cell_type": "code",
   "execution_count": 5,
   "metadata": {},
   "outputs": [
    {
     "data": {
      "text/plain": [
       "[0.5,\n",
       " 0.3333333333333333,\n",
       " 0.25,\n",
       " 0.2,\n",
       " 0.16666666666666666,\n",
       " 0.14285714285714285,\n",
       " 0.125,\n",
       " 0.1111111111111111,\n",
       " 0.1,\n",
       " 0.6666666666666666,\n",
       " 0.5,\n",
       " 0.4,\n",
       " 0.3333333333333333,\n",
       " 0.2857142857142857,\n",
       " 0.25,\n",
       " 0.2222222222222222,\n",
       " 0.2,\n",
       " 0.75,\n",
       " 0.6,\n",
       " 0.5,\n",
       " 0.42857142857142855,\n",
       " 0.375,\n",
       " 0.3333333333333333,\n",
       " 0.3,\n",
       " 0.8,\n",
       " 0.6666666666666666,\n",
       " 0.5714285714285714,\n",
       " 0.5,\n",
       " 0.4444444444444444,\n",
       " 0.4,\n",
       " 0.8333333333333334,\n",
       " 0.7142857142857143,\n",
       " 0.625,\n",
       " 0.5555555555555556,\n",
       " 0.5,\n",
       " 0.8571428571428571,\n",
       " 0.75,\n",
       " 0.6666666666666666,\n",
       " 0.6,\n",
       " 0.875,\n",
       " 0.7777777777777778,\n",
       " 0.7,\n",
       " 0.8888888888888888,\n",
       " 0.8,\n",
       " 0.9]"
      ]
     },
     "execution_count": 5,
     "metadata": {},
     "output_type": "execute_result"
    }
   ],
   "source": [
    "#2 Given a list of distinct numbers (may contain zero), return another list which contains the ratio of \n",
    "# all pairs of numbers in the given list (the same pair should not be taken twice).\n",
    "def ratio_of_pairs(list_of_num):\n",
    "    rop = []\n",
    "    l = len(list)\n",
    "    for i in range(l):\n",
    "        for j in range(i+1,l):\n",
    "            r = list_of_num[i]/list_of_num[j]\n",
    "            rop.append(r)\n",
    "    return rop\n",
    "#main\n",
    "list_of_num = [1,2,3,4,5,6,7,8,9,10]\n",
    "ratio_of_pairs(list_of_num)\n"
   ]
  },
  {
   "cell_type": "code",
   "execution_count": 2,
   "metadata": {},
   "outputs": [
    {
     "data": {
      "text/plain": [
       "[1, 2, 6, 24, 120, 720, 5040, 40320, 362880, 3628800]"
      ]
     },
     "execution_count": 2,
     "metadata": {},
     "output_type": "execute_result"
    }
   ],
   "source": [
    "#3 Given a list of positive integers, return a list of the factorial of all these numbers.\n",
    "def factorial(list):\n",
    "    fact = []\n",
    "    for i in list:\n",
    "        product = 1\n",
    "        for j in range(1,i+1):\n",
    "            product *= j\n",
    "        fact.append(product)\n",
    "    return fact\n",
    "#main\n",
    "list = [1,2,3,4,5,6,7,8,9,10]\n",
    "factorial(list)\n",
    "\n",
    "\n",
    "\n",
    "        "
   ]
  },
  {
   "cell_type": "code",
   "execution_count": 1,
   "metadata": {},
   "outputs": [
    {
     "name": "stdout",
     "output_type": "stream",
     "text": [
      "[2]\n"
     ]
    }
   ],
   "source": [
    "#4 Given a positive integer, return a list of all prime numbers from 1 up to this number.\n",
    "\n",
    "def list_of_prime(n):\n",
    "    prime = []\n",
    "    for i in range(2, n + 1):\n",
    "        is_prime = True  \n",
    "        for j in range(2, i):\n",
    "            if i % j == 0:\n",
    "                is_prime = False\n",
    "                break \n",
    "        if is_prime==True:\n",
    "            prime.append(i)\n",
    "    return prime\n",
    "\n",
    "\n",
    "# main\n",
    "n = int(input(\"Enter a number: \"))\n",
    "print(list_of_prime(n))\n",
    "\n",
    "\n",
    "\n"
   ]
  },
  {
   "cell_type": "code",
   "execution_count": 8,
   "metadata": {},
   "outputs": [
    {
     "name": "stdout",
     "output_type": "stream",
     "text": [
      "([2, 3, 5, 7], 17)\n"
     ]
    }
   ],
   "source": [
    "#5 Given a positive integer, return the sum of all prime numbers from 1 up to this number.\n",
    "def sum_of_prime(n):\n",
    "    prime = []\n",
    "    sop = 0\n",
    "    for i in range(2, n + 1):\n",
    "        flag = True  \n",
    "        for j in range(2, i):\n",
    "            if i % j == 0:\n",
    "                flag = False\n",
    "                break  \n",
    "        if flag: \n",
    "            prime.append(i)\n",
    "            sop+=i\n",
    "    return prime,sop\n",
    "\n",
    "\n",
    "# main\n",
    "n = int(input(\"Enter a number: \"))\n",
    "print(sum_of_prime(n))\n"
   ]
  },
  {
   "cell_type": "code",
   "execution_count": 2,
   "metadata": {},
   "outputs": [
    {
     "name": "stdout",
     "output_type": "stream",
     "text": [
      "Co-prime Pairs: [(1, 2), (1, 3), (1, 4), (1, 5), (1, 6), (1, 7), (1, 8), (1, 9), (1, 10), (2, 3), (2, 5), (2, 7), (2, 9), (3, 4), (3, 5), (3, 7), (3, 8), (3, 10), (4, 5), (4, 7), (4, 9), (5, 6), (5, 7), (5, 8), (5, 9), (6, 7), (7, 8), (7, 9), (7, 10), (8, 9), (9, 10)]\n",
      "Total Number of Co-prime Pairs: 31\n"
     ]
    }
   ],
   "source": [
    "#6 Given a list of numbers, return another list of co-primes and count how many co-primes are there in this given list.\n",
    "def gcd(a, b):\n",
    "    # Euclidean Algorithm to find GCD\n",
    "    while b:\n",
    "        a, b = b, a % b\n",
    "    return a\n",
    "\n",
    "def coprime(num_list):\n",
    "    cp = []  # List to store co-prime pairs\n",
    "    l = len(num_list)\n",
    "    for i in range(l):\n",
    "        for j in range(i + 1, l):  # Avoid duplicate and reverse pairs\n",
    "            if gcd(num_list[i], num_list[j]) == 1:\n",
    "                cp.append((num_list[i], num_list[j]))  # Store pair as a tuple\n",
    "    count = len(cp)\n",
    "    return cp, count\n",
    "\n",
    "# Main\n",
    "num_list = [1, 2, 3, 4, 5, 6, 7, 8, 9, 10]\n",
    "pairs, total = coprime(num_list)\n",
    "print(\"Co-prime Pairs:\", pairs)\n",
    "print(\"Total Number of Co-prime Pairs:\", total)\n"
   ]
  },
  {
   "cell_type": "code",
   "execution_count": 6,
   "metadata": {},
   "outputs": [
    {
     "data": {
      "text/plain": [
       "[[6, 15], [16, 18]]"
      ]
     },
     "execution_count": 6,
     "metadata": {},
     "output_type": "execute_result"
    }
   ],
   "source": [
    "#7 Given two 2D matrices of the same dimensions, return their sum.\n",
    "def sum_of_matrix(m1,m2):\n",
    "    som = []\n",
    "    d = len(m1)\n",
    "    for i in range(0,d):\n",
    "        part1=m1[i]\n",
    "        part2=m2[i]\n",
    "        temp=[]\n",
    "        for j in range(0,len(part1)):\n",
    "            s=part1[j]+part2[j]\n",
    "            temp.append(s)\n",
    "        som.append(temp)\n",
    "    return som\n",
    "#main\n",
    "m1 = [[2,6],[8,9]]\n",
    "m2 = [[4,9],[8,9]]\n",
    "sum_of_matrix(m1,m2)\n"
   ]
  },
  {
   "cell_type": "code",
   "execution_count": 49,
   "metadata": {},
   "outputs": [
    {
     "data": {
      "text/plain": [
       "(3.0, [1, 2, 3, 3, 4, 6])"
      ]
     },
     "execution_count": 49,
     "metadata": {},
     "output_type": "execute_result"
    }
   ],
   "source": [
    "#8 Given a list of integers, sort it on your own and return the median.\n",
    "def sort(list1):\n",
    "    l = len(list1)\n",
    "    for i in range(l):\n",
    "        for j in range(l-1):\n",
    "            if list1[j] > list1[j+1]:\n",
    "                list1[j],list1[j+1]=list1[j+1],list1[j]\n",
    "    return list1\n",
    "\n",
    "def median(sorted_list):\n",
    "    n = len(sorted_list)\n",
    "    med=0\n",
    "    if n%2==0:\n",
    "        med = (sorted_list[n//2]+sorted_list[(n//2)-1])/2\n",
    "    else:\n",
    "        med = sorted_list[(n)//2]\n",
    "    return med,list1\n",
    "\n",
    "\n",
    "#main\n",
    "list1 = [4,2,3,1,6,3]\n",
    "median(sort(list1))\n",
    "\n"
   ]
  },
  {
   "cell_type": "code",
   "execution_count": null,
   "metadata": {},
   "outputs": [
    {
     "name": "stdout",
     "output_type": "stream",
     "text": [
      "Mode: [4, 7]\n"
     ]
    }
   ],
   "source": [
    "#9 Given a list of integers, return its mode (list of numbers with highest frequency of occurrence). Do not use a dictionary.\n",
    "def mode(list_of_num):\n",
    "    l = len(list_of_num)\n",
    "    max_count = 0\n",
    "    mode_list = []\n",
    "\n",
    "    # Find the frequency of each element in the list\n",
    "    for i in range(0, l):\n",
    "        count = 0\n",
    "        for j in range(l):\n",
    "            if list_of_num[i] == list_of_num[j]:\n",
    "                count += 1\n",
    "\n",
    "        # Update mode list based on frequency\n",
    "        if count > max_count:\n",
    "            max_count = count\n",
    "            mode_list = [list_of_num[i]]  # Update mode list with new mode\n",
    "        elif count == max_count:\n",
    "            if list_of_num[i] not in mode_list:\n",
    "                mode_list.append(list_of_num[i])  # Add if not already in mode list\n",
    "\n",
    "    return mode_list\n",
    "\n",
    "\n",
    "# Main\n",
    "list_of_num = [4, 2, 7, 4, 5, 9,7, 4, 1, 4, 7, 7]\n",
    "print(\"Mode:\", mode(list_of_num))\n",
    "   \n"
   ]
  },
  {
   "cell_type": "code",
   "execution_count": 48,
   "metadata": {},
   "outputs": [
    {
     "data": {
      "text/plain": [
       "[[1, 1, 1], [2, 4, 5], [3, 9, 5], [7, 5, 8]]"
      ]
     },
     "execution_count": 48,
     "metadata": {},
     "output_type": "execute_result"
    }
   ],
   "source": [
    "#10 Given a list of lists of integers, return a list that is sorted based on the sum of each inner list. Do not use any inbuilt function for sorting.\n",
    "def sum_of_il(l1):\n",
    "    s=0\n",
    "    for i in l1:\n",
    "        s+=i\n",
    "    return s\n",
    "  \n",
    "\n",
    "def sort(list1):\n",
    "    l = len(list1)\n",
    "    for i in range(l):\n",
    "        for j in range(l-1):\n",
    "            s1 = sum_of_il(list1[j])\n",
    "            s2 = sum_of_il(list1[j+1])\n",
    "            if s1 > s2:\n",
    "                list1[j],list1[j+1]=list1[j+1],list1[j]\n",
    "    return list1\n",
    "\n",
    "        \n",
    "\n",
    "#main\n",
    "l1=[[2,4,5],[7,5,8],[3,9,5],[1,1,1]]  #11,20,17\n",
    "sort(l1)"
   ]
  },
  {
   "cell_type": "code",
   "execution_count": 24,
   "metadata": {},
   "outputs": [
    {
     "name": "stdout",
     "output_type": "stream",
     "text": [
      "[4]\n"
     ]
    }
   ],
   "source": [
    "def mode(list_of_num):\n",
    "    l = len(list_of_num)\n",
    "    freq_list = []\n",
    "    max_count = 0\n",
    "\n",
    "    # Step 1: Calculate frequencies of each element\n",
    "    for i in range(l):\n",
    "        count = 0\n",
    "        for j in range(l):\n",
    "            if list_of_num[i] == list_of_num[j]:\n",
    "                count += 1\n",
    "\n",
    "        # Step 2: Track the maximum frequency\n",
    "        if count > max_count:\n",
    "            max_count = count\n",
    "    \n",
    "    # Step 3: Get all elements with the maximum frequency\n",
    "    mode_list = []\n",
    "    for i in range(l):\n",
    "        count = 0\n",
    "        for j in range(l):\n",
    "            if list_of_num[i] == list_of_num[j]:\n",
    "                count += 1\n",
    "        if count == max_count and list_of_num[i] not in mode_list:\n",
    "            mode_list.append(list_of_num[i])\n",
    "\n",
    "    return mode_list\n",
    "\n",
    "# Main\n",
    "list_of_num = [4, 2, 7, 4, 5, 9, 4, 1, 4]\n",
    "print(mode(list_of_num))\n"
   ]
  },
  {
   "cell_type": "code",
   "execution_count": null,
   "metadata": {},
   "outputs": [],
   "source": []
  }
 ],
 "metadata": {
  "kernelspec": {
   "display_name": "Python 3",
   "language": "python",
   "name": "python3"
  },
  "language_info": {
   "codemirror_mode": {
    "name": "ipython",
    "version": 3
   },
   "file_extension": ".py",
   "mimetype": "text/x-python",
   "name": "python",
   "nbconvert_exporter": "python",
   "pygments_lexer": "ipython3",
   "version": "3.12.6"
  }
 },
 "nbformat": 4,
 "nbformat_minor": 2
}
