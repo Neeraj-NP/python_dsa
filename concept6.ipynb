{
 "cells": [
  {
   "cell_type": "code",
   "execution_count": 2,
   "metadata": {},
   "outputs": [
    {
     "data": {
      "text/plain": [
       "6"
      ]
     },
     "execution_count": 2,
     "metadata": {},
     "output_type": "execute_result"
    }
   ],
   "source": [
    "#1 Given a string as input, return its length without using the inbuilt length function.\n",
    "def len_of_str(word):\n",
    "    count=0\n",
    "    for i in word:\n",
    "        count+=1\n",
    "    return count\n",
    "\n",
    "#main\n",
    "word=input(\"enter a string that you want to find its length : \")\n",
    "len_of_str(word)\n",
    "\n",
    "\n"
   ]
  },
  {
   "cell_type": "code",
   "execution_count": 11,
   "metadata": {},
   "outputs": [
    {
     "data": {
      "text/plain": [
       "('jareen', 'neeraj')"
      ]
     },
     "execution_count": 11,
     "metadata": {},
     "output_type": "execute_result"
    }
   ],
   "source": [
    "#2 Given a string as input, return the string in reverse order (without using string splicing).\n",
    "def reverse(word):\n",
    "    l=len(word)\n",
    "    reverse_word=''\n",
    "    for i in range(l):\n",
    "        reverse_word = reverse_word + word[l-1-i]\n",
    "    return reverse_word,word\n",
    "\n",
    "#main\n",
    "word = input(\"Enter a word, i give you its reverse : \")#neeraj\n",
    "reverse(word)\n"
   ]
  },
  {
   "cell_type": "code",
   "execution_count": 12,
   "metadata": {},
   "outputs": [
    {
     "data": {
      "text/plain": [
       "(4, 'Ravi Rajput')"
      ]
     },
     "execution_count": 12,
     "metadata": {},
     "output_type": "execute_result"
    }
   ],
   "source": [
    "#3 Given a string as input, return the number of vowels in it.\n",
    "def vowel(word):\n",
    "    count=0\n",
    "    for i in word:\n",
    "        if i in ['a','e','i','o','u','A','E','I','O','U']:\n",
    "            count+=1\n",
    "    return count , word\n",
    "\n",
    "#main\n",
    "word = input(\"Enter a word : \")\n",
    "vowel(word)"
   ]
  },
  {
   "cell_type": "code",
   "execution_count": null,
   "metadata": {},
   "outputs": [
    {
     "data": {
      "text/plain": [
       "('i am neer par', 4)"
      ]
     },
     "execution_count": 13,
     "metadata": {},
     "output_type": "execute_result"
    }
   ],
   "source": [
    "#4 Given a string as input, return the number of words in it. Use space as a separator for words.\n",
    "def no_of_words(text):\n",
    "    count=0\n",
    "    for i in text:\n",
    "        if i==' ':\n",
    "            count+=1\n",
    "    return text,count+1\n",
    "\n",
    "\n",
    "#main\n",
    "text = input(\"Enter a text here : \")\n",
    "no_of_words(text)"
   ]
  },
  {
   "cell_type": "code",
   "execution_count": null,
   "metadata": {},
   "outputs": [
    {
     "ename": "SyntaxError",
     "evalue": "expression expected after dictionary key and ':' (3916798832.py, line 12)",
     "output_type": "error",
     "traceback": [
      "\u001b[1;36m  Cell \u001b[1;32mIn[1], line 12\u001b[1;36m\u001b[0m\n\u001b[1;33m    'S': 'S', 'T': 'T', 'U': 'U', 'V':}\u001b[0m\n\u001b[1;37m                                     ^\u001b[0m\n\u001b[1;31mSyntaxError\u001b[0m\u001b[1;31m:\u001b[0m expression expected after dictionary key and ':'\n"
     ]
    }
   ],
   "source": [
    "#5 Given a string as input, return the string with the first letter of each word capitalised.\n",
    "def cap_later(text):\n",
    "    d1={\n",
    "    'a': 'A', 'b': 'B', 'c': 'C', 'd': 'D', 'e': 'E', 'f': 'F', \n",
    "    'g': 'G', 'h': 'H', 'i': 'I', 'j': 'J', 'k': 'K', 'l': 'L', \n",
    "    'm': 'M', 'n': 'N', 'o': 'O', 'p': 'P', 'q': 'Q', 'r': 'R', \n",
    "    's': 'S', 't': 'T', 'u': 'U', 'v': 'V', 'w': 'W', 'x': 'X', \n",
    "    'y': 'Y', 'z': 'Z',\n",
    "    'A': 'A', 'B': 'B', 'C': 'C', 'D': 'D', 'E': 'E', 'F': 'F', \n",
    "    'G': 'G', 'H': 'H', 'I': 'I', 'J': 'J', 'K': 'K', 'L': 'L', \n",
    "    'M': 'M', 'N': 'N', 'O': 'O', 'P': 'P', 'Q': 'Q', 'R': 'R', \n",
    "    'S': 'S', 'T': 'T', 'U': 'U', 'V':}\n",
    "    \n",
    "    l1=len(new_text)\n",
    "    new_list=''\n",
    "    for i in new_text:\n",
    "        for j in range(len(i)): \n",
    "            if j==0:\n",
    "                for key in d1.keys():\n",
    "                    if i[j] == key:\n",
    "                        new_list+=d1[key]\n",
    "                        if j==len(i)-1:\n",
    "                            new_list+=' '\n",
    "\n",
    "            else:\n",
    "                new_list+=i[j] \n",
    "                if j==len(i)-1:\n",
    "                    new_list+=' '\n",
    "\n",
    "    return new_list,new_text\n",
    "\n",
    "#main\n",
    "text=input(\"enter text here : \")#ravi Is chutiya SIH\n",
    "cap_later(text)"
   ]
  },
  {
   "cell_type": "code",
   "execution_count": 8,
   "metadata": {},
   "outputs": [
    {
     "data": {
      "text/plain": [
       "(7, 'ravi Is chutiya SIH')"
      ]
     },
     "execution_count": 8,
     "metadata": {},
     "output_type": "execute_result"
    }
   ],
   "source": [
    "#6 Given a string as input, return the length of the longest word in it. Use space as a separator for words.\n",
    "def len_of_words(text):\n",
    "    after_split=text.split()\n",
    "    longest=0\n",
    "    for i in after_split:\n",
    "        length=len(i)\n",
    "        if length>longest:\n",
    "            longest=length\n",
    "    return longest,text\n",
    " \n",
    "#main\n",
    "text = input(\"Enter a text here : \")\n",
    "len_of_words(text)"
   ]
  },
  {
   "cell_type": "code",
   "execution_count": null,
   "metadata": {},
   "outputs": [],
   "source": [
    "#7 Given a string as input, return True if its a valid email address, else return False.\n",
    "def check_email(email):\n",
    "    req_for_email = ['a', 'b', 'c', 'd', 'e', 'f', 'g', 'h', 'i', 'j', 'k', 'l', 'm', \n",
    "                     'n', 'o', 'p', 'q', 'r', 's', 't', 'u', 'v', 'w', 'x', 'y', 'z',\n",
    "                     'A', 'B', 'C', 'D', 'E', 'F', 'G', 'H', 'I', 'J', 'K', 'L', 'M', \n",
    "                     'N', 'O', 'P', 'Q', 'R', 'S', 'T', 'U', 'V', 'W', 'X', 'Y', 'Z',\n",
    "                     '0', '1', '2', '3', '4', '5', '6', '7', '8', '9',\n",
    "                     '.', '_', '-']\n",
    "\n",
    "    # Split the email into local part and domain part\n",
    "    if email.count('@') != 1:\n",
    "        return False  # Must contain exactly one '@'\n",
    "    \n",
    "    part1, part2 = email.split('@')\n",
    "\n",
    "    # Validate the local part (part1)\n",
    "    if len(part1) == 0 or part1[0] == '.' or part1[-1] == '.' or '..' in part1:\n",
    "        return False\n",
    "    for char in part1:\n",
    "        if char not in req_for_email:\n",
    "            return False\n",
    "\n",
    "    # Validate the domain part (part2)\n",
    "    if len(part2) < 3 or '-' in (part2[0], part2[-1]) or '..' in part2 or '_' in part2:\n",
    "        return False\n",
    "    if '.' not in part2 or part2.count('.') < 1:\n",
    "        return False\n",
    "    \n",
    "    domain_parts = part2.split('.')\n",
    "    if any(len(part) < 2 for part in domain_parts):\n",
    "        return False\n",
    "\n",
    "    # If all checks pass, it's a valid email\n",
    "    return True\n",
    "\n",
    "\n",
    "# Main\n",
    "email = input(\"Enter an email: \")  # Example: bittu_bad-mo.sh234@gmail.com\n",
    "if check_email(email):\n",
    "    print(\"Valid email\")\n",
    "else:\n",
    "    print(\"Invalid email\")\n"
   ]
  },
  {
   "cell_type": "code",
   "execution_count": 64,
   "metadata": {},
   "outputs": [
    {
     "data": {
      "text/plain": [
       "False"
      ]
     },
     "execution_count": 64,
     "metadata": {},
     "output_type": "execute_result"
    }
   ],
   "source": [
    "#8 Given a string as input, return True if its a valid mobile number in India, else return False.\n",
    "def valid_mobile(mobile):\n",
    "    l = len(mobile)\n",
    "    flag=False\n",
    "    if l==12:\n",
    "        if mobile[0]=='9' and mobile[1]=='1':\n",
    "            for i in range(2,l):\n",
    "                if mobile[i] not in ['0','1','2','3','4','5','6','7','8','9']:\n",
    "                    flag=False\n",
    "                else:\n",
    "                    flag=True\n",
    "                \n",
    "    if flag:\n",
    "        return True\n",
    "    else:\n",
    "        return False\n",
    "\n",
    "#main\n",
    "mobile = input(\"Enter a mobile no. here : \")\n",
    "valid_mobile(mobile)"
   ]
  },
  {
   "cell_type": "code",
   "execution_count": null,
   "metadata": {},
   "outputs": [
    {
     "data": {
      "text/plain": [
       "True"
      ]
     },
     "execution_count": 67,
     "metadata": {},
     "output_type": "execute_result"
    }
   ],
   "source": [
    "#9 Given a string as input, return True if its a palindrome, else return False (case sensitive and ignore spaces). Do not use string splicing.\n",
    "def palindrome(text):\n",
    "    # Remove spaces\n",
    "    cleaned_text = \"\"\n",
    "    for char in text:\n",
    "        if char != \" \":\n",
    "            cleaned_text += char\n",
    "\n",
    "    # Calculate length of the cleaned string\n",
    "    l = len(cleaned_text)\n",
    "\n",
    "    # Check characters from both ends\n",
    "    for i in range(l // 2):\n",
    "        if cleaned_text[i] != cleaned_text[l - 1 - i]:\n",
    "            return False  # Return False immediately if a mismatch is found\n",
    "\n",
    "    return True  # If the loop completes, the string is a palindrome\n",
    "\n",
    "# Main\n",
    "text = input(\"Enter a string here: \")\n",
    "result = palindrome(text)\n",
    "print(\"Is the string a palindrome?\", result)\n"
   ]
  },
  {
   "cell_type": "code",
   "execution_count": 4,
   "metadata": {},
   "outputs": [
    {
     "name": "stdout",
     "output_type": "stream",
     "text": [
      "['Enter paragraph here: Hello!', 'How are you doing?', 'I am fine.', 'Thank you.']\n"
     ]
    }
   ],
   "source": [
    "#10 Given a paragraph as input, return a list of sentences. Use full-stop, exclamation and question mark as the three allowed delimiters between sentences.\n",
    "#  These punctuation marks should be included in the output list of sentences.\n",
    "def sentence(para):\n",
    "    \"\"\"\n",
    "    Split a paragraph into sentences using '.', '!', and '?' as delimiters.\n",
    "    \n",
    "    Args:\n",
    "        para (str): The paragraph to split.\n",
    "\n",
    "    Returns:\n",
    "        list: A list of sentences including their delimiters.\n",
    "    \"\"\"\n",
    "    list_of_sentence = []  # List to store sentences\n",
    "    delimiters = ['.', '!', '?']\n",
    "    sentence = \"\"  # Temporary string to build a sentence\n",
    "    \n",
    "    for char in para:\n",
    "        sentence += char  # Add character to the sentence\n",
    "        if char in delimiters:\n",
    "            list_of_sentence.append(sentence.strip())  # Add sentence with delimiter to the list\n",
    "            sentence = \"\"  # Reset the sentence for the next one\n",
    "\n",
    "    # In case the paragraph doesn't end with a delimiter, append the last sentence\n",
    "    if sentence.strip():\n",
    "        list_of_sentence.append(sentence.strip())\n",
    "\n",
    "    return list_of_sentence\n",
    "\n",
    "# Main\n",
    "para = input(\"Enter paragraph here: \")\n",
    "print(sentence(para))\n"
   ]
  },
  {
   "cell_type": "code",
   "execution_count": null,
   "metadata": {},
   "outputs": [
    {
     "data": {
      "text/plain": [
       "('RaviIsChutiyaSIH', ['ravi', 'Is', 'chutiya', 'SIH'])"
      ]
     },
     "execution_count": 6,
     "metadata": {},
     "output_type": "execute_result"
    },
    {
     "ename": "",
     "evalue": "",
     "output_type": "error",
     "traceback": [
      "\u001b[1;31mThe Kernel crashed while executing code in the current cell or a previous cell. \n",
      "\u001b[1;31mPlease review the code in the cell(s) to identify a possible cause of the failure. \n",
      "\u001b[1;31mClick <a href='https://aka.ms/vscodeJupyterKernelCrash'>here</a> for more info. \n",
      "\u001b[1;31mView Jupyter <a href='command:jupyter.viewOutput'>log</a> for further details."
     ]
    }
   ],
   "source": [
    "def custom_split(input_string, delimiter=\" \"):\n",
    "    result = []  # List to store the substrings\n",
    "    temp = \"\"    # Temporary string to build the current substring\n",
    "\n",
    "    for char in input_string:\n",
    "        if char == delimiter:  # If the current character matches the delimiter\n",
    "            if temp:  # If there's a substring built, add it to the result\n",
    "                result.append(temp)\n",
    "                temp = \"\"  # Reset temp for the next substring\n",
    "        else:\n",
    "            temp += char  # Add the character to the current substring\n",
    "\n",
    "    if temp:  # Append the last substring (if any) after the loop\n",
    "        result.append(temp)\n",
    "\n",
    "    return result\n",
    "\n",
    "\n",
    "def cap_later(text):\n",
    "    d1={\n",
    "    'a': 'A', 'b': 'B', 'c': 'C', 'd': 'D', 'e': 'E', 'f': 'F', \n",
    "    'g': 'G', 'h': 'H', 'i': 'I', 'j': 'J', 'k': 'K', 'l': 'L', \n",
    "    'm': 'M', 'n': 'N', 'o': 'O', 'p': 'P', 'q': 'Q', 'r': 'R', \n",
    "    's': 'S', 't': 'T', 'u': 'U', 'v': 'V', 'w': 'W', 'x': 'X', \n",
    "    'y': 'Y', 'z': 'Z',\n",
    "    'A': 'A', 'B': 'B', 'C': 'C', 'D': 'D', 'E': 'E', 'F': 'F', \n",
    "    'G': 'G', 'H': 'H', 'I': 'I', 'J': 'J', 'K': 'K', 'L': 'L', \n",
    "    'M': 'M', 'N': 'N', 'O': 'O', 'P': 'P', 'Q': 'Q', 'R': 'R', \n",
    "    'S': 'S', 'T': 'T', 'U': 'U', 'V': 'V', 'W': 'W', 'X': 'X', \n",
    "    'Y': 'Y', 'Z': 'Z'\n",
    "    }\n",
    "\n",
    "    new_text=text.split()\n",
    "    l1=len(new_text)\n",
    "    new_list=''\n",
    "    for i in new_text:\n",
    "        # new_list=[]\n",
    "        for j in range(len(i)):\n",
    "            if j==0:\n",
    "                for key in d1.keys():\n",
    "                    if i[j] == key:\n",
    "                        new_list+=d1[key]\n",
    "                        if j==len(i)-1:\n",
    "                            new_list+=' '\n",
    "\n",
    "            else:\n",
    "                new_list+=i[j] \n",
    "                if j==len(i)-1:\n",
    "                    new_list+=' '\n",
    "\n",
    "    return new_list,new_text\n",
    "    \n",
    "    # #find index of space\n",
    "    # space=[]\n",
    "    # l2=len(text)\n",
    "    # for i in range(l2):\n",
    "    #     if text[i]==' ':\n",
    "    #         space.append(i)\n",
    "\n",
    "\n",
    "    # #add string\n",
    "    # result_str=''\n",
    "    # for i in new_list:\n",
    "    #     result_str+=i\n",
    "\n",
    "    # return result_str\n",
    "\n",
    "\n",
    "    # return new_text,new_list\n",
    "\n",
    "#main\n",
    "text=input(\"enter text here : \")#ravi Is chutiya SIH\n",
    "cap_later(text)"
   ]
  },
  {
   "cell_type": "code",
   "execution_count": 3,
   "metadata": {},
   "outputs": [
    {
     "ename": "KeyboardInterrupt",
     "evalue": "Interrupted by user",
     "output_type": "error",
     "traceback": [
      "\u001b[1;31m---------------------------------------------------------------------------\u001b[0m",
      "\u001b[1;31mKeyboardInterrupt\u001b[0m                         Traceback (most recent call last)",
      "Cell \u001b[1;32mIn[3], line 50\u001b[0m\n\u001b[0;32m     46\u001b[0m         \u001b[38;5;28;01mreturn\u001b[39;00m \u001b[38;5;28;01mFalse\u001b[39;00m\n\u001b[0;32m     49\u001b[0m \u001b[38;5;66;03m#main\u001b[39;00m\n\u001b[1;32m---> 50\u001b[0m email\u001b[38;5;241m=\u001b[39m\u001b[38;5;28;43minput\u001b[39;49m\u001b[43m(\u001b[49m\u001b[38;5;124;43m\"\u001b[39;49m\u001b[38;5;124;43menter a email : \u001b[39;49m\u001b[38;5;124;43m\"\u001b[39;49m\u001b[43m)\u001b[49m\u001b[38;5;66;03m#bittu_bad-mo.sh234@gmail.com\u001b[39;00m\n\u001b[0;32m     51\u001b[0m check_email(email)\n",
      "File \u001b[1;32m~\\AppData\\Roaming\\Python\\Python312\\site-packages\\ipykernel\\kernelbase.py:1282\u001b[0m, in \u001b[0;36mKernel.raw_input\u001b[1;34m(self, prompt)\u001b[0m\n\u001b[0;32m   1280\u001b[0m     msg \u001b[38;5;241m=\u001b[39m \u001b[38;5;124m\"\u001b[39m\u001b[38;5;124mraw_input was called, but this frontend does not support input requests.\u001b[39m\u001b[38;5;124m\"\u001b[39m\n\u001b[0;32m   1281\u001b[0m     \u001b[38;5;28;01mraise\u001b[39;00m StdinNotImplementedError(msg)\n\u001b[1;32m-> 1282\u001b[0m \u001b[38;5;28;01mreturn\u001b[39;00m \u001b[38;5;28;43mself\u001b[39;49m\u001b[38;5;241;43m.\u001b[39;49m\u001b[43m_input_request\u001b[49m\u001b[43m(\u001b[49m\n\u001b[0;32m   1283\u001b[0m \u001b[43m    \u001b[49m\u001b[38;5;28;43mstr\u001b[39;49m\u001b[43m(\u001b[49m\u001b[43mprompt\u001b[49m\u001b[43m)\u001b[49m\u001b[43m,\u001b[49m\n\u001b[0;32m   1284\u001b[0m \u001b[43m    \u001b[49m\u001b[38;5;28;43mself\u001b[39;49m\u001b[38;5;241;43m.\u001b[39;49m\u001b[43m_parent_ident\u001b[49m\u001b[43m[\u001b[49m\u001b[38;5;124;43m\"\u001b[39;49m\u001b[38;5;124;43mshell\u001b[39;49m\u001b[38;5;124;43m\"\u001b[39;49m\u001b[43m]\u001b[49m\u001b[43m,\u001b[49m\n\u001b[0;32m   1285\u001b[0m \u001b[43m    \u001b[49m\u001b[38;5;28;43mself\u001b[39;49m\u001b[38;5;241;43m.\u001b[39;49m\u001b[43mget_parent\u001b[49m\u001b[43m(\u001b[49m\u001b[38;5;124;43m\"\u001b[39;49m\u001b[38;5;124;43mshell\u001b[39;49m\u001b[38;5;124;43m\"\u001b[39;49m\u001b[43m)\u001b[49m\u001b[43m,\u001b[49m\n\u001b[0;32m   1286\u001b[0m \u001b[43m    \u001b[49m\u001b[43mpassword\u001b[49m\u001b[38;5;241;43m=\u001b[39;49m\u001b[38;5;28;43;01mFalse\u001b[39;49;00m\u001b[43m,\u001b[49m\n\u001b[0;32m   1287\u001b[0m \u001b[43m\u001b[49m\u001b[43m)\u001b[49m\n",
      "File \u001b[1;32m~\\AppData\\Roaming\\Python\\Python312\\site-packages\\ipykernel\\kernelbase.py:1325\u001b[0m, in \u001b[0;36mKernel._input_request\u001b[1;34m(self, prompt, ident, parent, password)\u001b[0m\n\u001b[0;32m   1322\u001b[0m \u001b[38;5;28;01mexcept\u001b[39;00m \u001b[38;5;167;01mKeyboardInterrupt\u001b[39;00m:\n\u001b[0;32m   1323\u001b[0m     \u001b[38;5;66;03m# re-raise KeyboardInterrupt, to truncate traceback\u001b[39;00m\n\u001b[0;32m   1324\u001b[0m     msg \u001b[38;5;241m=\u001b[39m \u001b[38;5;124m\"\u001b[39m\u001b[38;5;124mInterrupted by user\u001b[39m\u001b[38;5;124m\"\u001b[39m\n\u001b[1;32m-> 1325\u001b[0m     \u001b[38;5;28;01mraise\u001b[39;00m \u001b[38;5;167;01mKeyboardInterrupt\u001b[39;00m(msg) \u001b[38;5;28;01mfrom\u001b[39;00m \u001b[38;5;28;01mNone\u001b[39;00m\n\u001b[0;32m   1326\u001b[0m \u001b[38;5;28;01mexcept\u001b[39;00m \u001b[38;5;167;01mException\u001b[39;00m:\n\u001b[0;32m   1327\u001b[0m     \u001b[38;5;28mself\u001b[39m\u001b[38;5;241m.\u001b[39mlog\u001b[38;5;241m.\u001b[39mwarning(\u001b[38;5;124m\"\u001b[39m\u001b[38;5;124mInvalid Message:\u001b[39m\u001b[38;5;124m\"\u001b[39m, exc_info\u001b[38;5;241m=\u001b[39m\u001b[38;5;28;01mTrue\u001b[39;00m)\n",
      "\u001b[1;31mKeyboardInterrupt\u001b[0m: Interrupted by user"
     ]
    }
   ],
   "source": [
    "def check_email(email):\n",
    "    part=email.split('@')\n",
    "    part1=part[0]#bittu_bad-mo.sh234\n",
    "    part2=part[1]#gm.ail.com\n",
    "    req_for_email = ['a', 'b', 'c', 'd', 'e', 'f', 'g', 'h', 'i', 'j', 'k', 'l', 'm', \n",
    "    'n', 'o', 'p', 'q', 'r', 's', 't', 'u', 'v', 'w', 'x', 'y', 'z',\n",
    "    'A', 'B', 'C', 'D', 'E', 'F', 'G', 'H', 'I', 'J', 'K', 'L', 'M', \n",
    "    'N', 'O', 'P', 'Q', 'R', 'S', 'T', 'U', 'V', 'W', 'X', 'Y', 'Z',\n",
    "    '0', '1', '2', '3', '4', '5', '6', '7', '8', '9',\n",
    "    '.','_','-']\n",
    "#for part1\n",
    "    flag=False\n",
    "    for i in range(len(part1)):\n",
    "        if part1[i] in req_for_email:\n",
    "            if part1[0]=='.' :\n",
    "                flag=False\n",
    "            elif part1[len(part1)-1]=='.':\n",
    "                flag=False\n",
    "            else:\n",
    "                flag=True\n",
    "        else:\n",
    "            flag=False\n",
    "#for part2\n",
    "    for i in range(len(part2)):\n",
    "        if part2[i] in req_for_email:\n",
    "            if part2[0]=='-' :\n",
    "                flag=False\n",
    "            elif part2[len(part2)-1]=='-':\n",
    "                flag=False\n",
    "            elif part2[i]=='.':\n",
    "                p=part2.split('.')\n",
    "                p3=p[0]\n",
    "                p4=p[1]\n",
    "                if len(p4)>=2:\n",
    "                    flag=True\n",
    "                else:\n",
    "                    flag=False\n",
    "            else:\n",
    "                flag=True\n",
    "        else :\n",
    "            flag=False\n",
    "\n",
    "    if flag:\n",
    "        return True\n",
    "    else:\n",
    "        return False\n",
    "\n",
    "\n",
    "#main\n",
    "email=input(\"enter a email : \")#bittu_bad-mo.sh234@gmail.com\n",
    "check_email(email)"
   ]
  },
  {
   "cell_type": "code",
   "execution_count": null,
   "metadata": {},
   "outputs": [
    {
     "name": "stdout",
     "output_type": "stream",
     "text": [
      "Invalid email\n"
     ]
    }
   ],
   "source": [
    "def check_email(email):\n",
    "    req_for_email = ['a', 'b', 'c', 'd', 'e', 'f', 'g', 'h', 'i', 'j', 'k', 'l', 'm', \n",
    "                     'n', 'o', 'p', 'q', 'r', 's', 't', 'u', 'v', 'w', 'x', 'y', 'z',\n",
    "                     'A', 'B', 'C', 'D', 'E', 'F', 'G', 'H', 'I', 'J', 'K', 'L', 'M', \n",
    "                     'N', 'O', 'P', 'Q', 'R', 'S', 'T', 'U', 'V', 'W', 'X', 'Y', 'Z',\n",
    "                     '0', '1', '2', '3', '4', '5', '6', '7', '8', '9',\n",
    "                     '.', '_', '-']\n",
    "\n",
    "    # Split the email into local part and domain part\n",
    "    if email.count('@') != 1:\n",
    "        return False  # Must contain exactly one '@'\n",
    "    \n",
    "    part1, part2 = email.split('@')\n",
    "\n",
    "    # Validate the local part (part1)\n",
    "    if len(part1) == 0 or part1[0] == '.' or part1[-1] == '.' or '..' in part1:\n",
    "        return False\n",
    "    for char in part1:\n",
    "        if char not in req_for_email:\n",
    "            return False\n",
    "\n",
    "    # Validate the domain part (part2)\n",
    "    if len(part2) < 3 or '-' in (part2[0], part2[-1]) or '..' in part2 or '_' in part2:\n",
    "        return False\n",
    "    if '.' not in part2 or part2.count('.') < 1:\n",
    "        return False\n",
    "    \n",
    "    domain_parts = part2.split('.')\n",
    "    if any(len(part) < 2 for part in domain_parts):\n",
    "        return False\n",
    "\n",
    "    # If all checks pass, it's a valid email\n",
    "    return True\n",
    "\n",
    "\n",
    "# Main\n",
    "email = input(\"Enter an email: \")  # Example: bittu_bad-mo.sh234@gmail.com\n",
    "if check_email(email):\n",
    "    print(\"Valid email\")\n",
    "else:\n",
    "    print(\"Invalid email\")\n"
   ]
  },
  {
   "cell_type": "code",
   "execution_count": 4,
   "metadata": {},
   "outputs": [
    {
     "name": "stdout",
     "output_type": "stream",
     "text": [
      "['bittu_bad-mo.sh234', 'gmail.com']\n"
     ]
    }
   ],
   "source": [
    "a = 'bittu_bad-mo.sh234@gmail.com'\n",
    "b = a.split(\"@\")\n",
    "print(b)"
   ]
  },
  {
   "cell_type": "code",
   "execution_count": null,
   "metadata": {},
   "outputs": [],
   "source": []
  }
 ],
 "metadata": {
  "kernelspec": {
   "display_name": "Python 3",
   "language": "python",
   "name": "python3"
  },
  "language_info": {
   "codemirror_mode": {
    "name": "ipython",
    "version": 3
   },
   "file_extension": ".py",
   "mimetype": "text/x-python",
   "name": "python",
   "nbconvert_exporter": "python",
   "pygments_lexer": "ipython3",
   "version": "3.12.6"
  }
 },
 "nbformat": 4,
 "nbformat_minor": 2
}
